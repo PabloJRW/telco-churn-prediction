{
 "cells": [
  {
   "cell_type": "code",
   "execution_count": 1,
   "id": "b23e72a7-a20b-4b93-af5f-481ea7c4e7d5",
   "metadata": {},
   "outputs": [],
   "source": [
    "import os\n",
    "import pandas as pd\n",
    "\n",
    "from xgboost import XGBClassifier\n",
    "from sklearn.model_selection import GridSearchCV\n",
    "from sklearn.metrics import classification_report\n",
    "from joblib import dump"
   ]
  },
  {
   "cell_type": "code",
   "execution_count": 2,
   "id": "a4796293-4c51-4a05-a62d-481ce0828512",
   "metadata": {},
   "outputs": [],
   "source": [
    "# Datasets Paths\n",
    "X_train_resampled_path = os.path.join('..','datasets','prepared_data','X_train_resampled.csv') # SMOTE applied  \n",
    "X_train_reduced_path = os.path.join('..','datasets','prepared_data','X_train_reduced.csv')     # PCA applied (It was resampled before)\n",
    "X_test_path = os.path.join('..','datasets','prepared_data','X_test_transformed.csv') \n",
    "X_test_reduced_path = os.path.join('..','datasets','prepared_data','X_test_reduced.csv') \n",
    "y_train_path = os.path.join('..','datasets','prepared_data','y_train_resampled.csv') # SMOTE applied\n",
    "y_test_path = os.path.join('..','datasets','prepared_data','y_test.csv')\n",
    "\n",
    "# Load Datasets\n",
    "X_train_resampled = pd.read_csv(X_train_resampled_path) # PCA Reduced Dataset\n",
    "X_train_reduced = pd.read_csv(X_train_reduced_path)     # PCA applied (It was resampled before)\n",
    "X_test_reduced = pd.read_csv(X_test_reduced_path)               # PCA\n",
    "X_test = pd.read_csv(X_test_path)             \n",
    "y_train = pd.read_csv(y_train_path)\n",
    "y_test = pd.read_csv(y_test_path)\n",
    "\n",
    "# Ensure y are 1D arrays\n",
    "y_train = y_train.values.ravel()\n",
    "y_test = y_test.values.ravel()"
   ]
  },
  {
   "cell_type": "code",
   "execution_count": 3,
   "id": "3c67ef60-c79b-4830-8a5e-07aedf86b2e1",
   "metadata": {},
   "outputs": [
    {
     "name": "stdout",
     "output_type": "stream",
     "text": [
      "Fitting 5 folds for each of 144 candidates, totalling 720 fits\n",
      "Best parameters: {'colsample_bytree': 0.8, 'learning_rate': 0.1, 'max_depth': 7, 'n_estimators': 50, 'subsample': 0.8}\n",
      "Best score: 0.8677241379310345\n"
     ]
    }
   ],
   "source": [
    "# Define the base model\n",
    "xgb = XGBClassifier(eval_metric='logloss', random_state=42)\n",
    "\n",
    "# Define the hyperparameters to search\n",
    "param_grid = {\n",
    "    'n_estimators': [50, 75, 100, 150],\n",
    "    'max_depth': [3, 5, 7],\n",
    "    'learning_rate': [0.01, 0.1, 0.2],\n",
    "    'subsample': [0.8, 1.0],\n",
    "    'colsample_bytree': [0.8, 1.0]\n",
    "}\n",
    "\n",
    "# Set up GridSearchCV\n",
    "grid_search = GridSearchCV(\n",
    "    estimator=xgb,\n",
    "    param_grid=param_grid,\n",
    "    scoring='recall',  # Change to 'roc_auc' or 'f1' if needed\n",
    "    cv=5,                # Number of cross-validation folds\n",
    "    n_jobs=-1,           # Use all available CPU cores\n",
    "    verbose=1            # Display progress details\n",
    ")\n",
    "\n",
    "# Run GridSearchCV\n",
    "grid_search.fit(X_train_resampled, y_train)\n",
    "\n",
    "# Display the best hyperparameters and best score\n",
    "print(\"Best parameters:\", grid_search.best_params_)\n",
    "print(\"Best score:\", grid_search.best_score_)\n",
    "\n",
    "# Get the best model\n",
    "best_model = grid_search.best_estimator_"
   ]
  },
  {
   "cell_type": "code",
   "execution_count": 4,
   "id": "119e11b5-2ab7-491d-ae34-c5519c7aeae2",
   "metadata": {},
   "outputs": [],
   "source": [
    "y_pred = best_model.predict(X_test)"
   ]
  },
  {
   "cell_type": "code",
   "execution_count": 5,
   "id": "401a650e-9fd3-4153-8ca6-6638c8f22a93",
   "metadata": {},
   "outputs": [
    {
     "name": "stdout",
     "output_type": "stream",
     "text": [
      "              precision    recall  f1-score   support\n",
      "\n",
      "           0       0.89      0.78      0.83      1552\n",
      "           1       0.55      0.74      0.63       561\n",
      "\n",
      "    accuracy                           0.77      2113\n",
      "   macro avg       0.72      0.76      0.73      2113\n",
      "weighted avg       0.80      0.77      0.78      2113\n",
      "\n"
     ]
    }
   ],
   "source": [
    "print(classification_report(y_test, y_pred))"
   ]
  },
  {
   "cell_type": "code",
   "execution_count": 6,
   "id": "552d252c-da5d-420a-9435-5d3dad9cd90c",
   "metadata": {},
   "outputs": [
    {
     "data": {
      "text/plain": [
       "['..\\\\trained_models\\\\xgboosting.joblib']"
      ]
     },
     "execution_count": 6,
     "metadata": {},
     "output_type": "execute_result"
    }
   ],
   "source": [
    "# Save trained model\n",
    "dump(best_model, os.path.join('..','trained_models','xgboosting.joblib'))"
   ]
  },
  {
   "cell_type": "markdown",
   "id": "45d77cd2-8a02-4c9b-9cf0-4543671a6ba1",
   "metadata": {},
   "source": [
    "### With Reduced Dimensionality"
   ]
  },
  {
   "cell_type": "code",
   "execution_count": 7,
   "id": "f3be281c-5e8c-4457-a24f-c7ec314f82bc",
   "metadata": {},
   "outputs": [
    {
     "name": "stdout",
     "output_type": "stream",
     "text": [
      "Fitting 5 folds for each of 144 candidates, totalling 720 fits\n"
     ]
    },
    {
     "name": "stderr",
     "output_type": "stream",
     "text": [
      "C:\\Users\\pablo\\Documents\\Portafolio\\telco-churn-prediction\\telcovenv\\Lib\\site-packages\\numpy\\ma\\core.py:2881: RuntimeWarning: invalid value encountered in cast\n",
      "  _data = np.array(data, dtype=dtype, copy=copy,\n"
     ]
    },
    {
     "name": "stdout",
     "output_type": "stream",
     "text": [
      "Best parameters: {'colsample_bytree': 1.0, 'learning_rate': 0.1, 'max_depth': 7, 'n_estimators': 150, 'subsample': 1.0}\n",
      "Best score: 0.8555793484473233\n"
     ]
    }
   ],
   "source": [
    "# Define the base model\n",
    "xgb = XGBClassifier(eval_metric='logloss', random_state=42)\n",
    "\n",
    "# Define the hyperparameters to search\n",
    "param_grid = {\n",
    "    'n_estimators': [50, 75, 100, 150],\n",
    "    'max_depth': [3, 5, 7],\n",
    "    'learning_rate': [0.01, 0.1, 0.2],\n",
    "    'subsample': [0.8, 1.0],\n",
    "    'colsample_bytree': [0.8, 1.0]\n",
    "}\n",
    "\n",
    "# Set up GridSearchCV\n",
    "grid_search = GridSearchCV(\n",
    "    estimator=xgb,\n",
    "    param_grid=param_grid,\n",
    "    scoring='recall',  # Change to 'roc_auc' or 'f1' if needed\n",
    "    cv=5,                # Number of cross-validation folds\n",
    "    n_jobs=-1,           # Use all available CPU cores\n",
    "    verbose=1            # Display progress details\n",
    ")\n",
    "\n",
    "# Run GridSearchCV\n",
    "grid_search.fit(X_train_reduced, y_train)\n",
    "\n",
    "# Display the best hyperparameters and best score\n",
    "print(\"Best parameters:\", grid_search.best_params_)\n",
    "print(\"Best score:\", grid_search.best_score_)\n",
    "\n",
    "# Get the best model\n",
    "best_model_w_reduced = grid_search.best_estimator_"
   ]
  },
  {
   "cell_type": "code",
   "execution_count": 8,
   "id": "0d585724-5864-4c67-ad61-19821c12fd5b",
   "metadata": {},
   "outputs": [],
   "source": [
    "y_pred = best_model_w_reduced.predict(X_test_reduced)"
   ]
  },
  {
   "cell_type": "code",
   "execution_count": 9,
   "id": "19b90096-9203-431e-9790-b746665a7147",
   "metadata": {},
   "outputs": [
    {
     "name": "stdout",
     "output_type": "stream",
     "text": [
      "              precision    recall  f1-score   support\n",
      "\n",
      "           0       0.88      0.76      0.82      1552\n",
      "           1       0.52      0.71      0.60       561\n",
      "\n",
      "    accuracy                           0.75      2113\n",
      "   macro avg       0.70      0.74      0.71      2113\n",
      "weighted avg       0.78      0.75      0.76      2113\n",
      "\n"
     ]
    }
   ],
   "source": [
    "print(classification_report(y_test, y_pred))"
   ]
  },
  {
   "cell_type": "code",
   "execution_count": null,
   "id": "18d4c653-eed7-4153-8a9e-bf70a9893042",
   "metadata": {},
   "outputs": [],
   "source": []
  }
 ],
 "metadata": {
  "kernelspec": {
   "display_name": "Python 3 (ipykernel)",
   "language": "python",
   "name": "python3"
  },
  "language_info": {
   "codemirror_mode": {
    "name": "ipython",
    "version": 3
   },
   "file_extension": ".py",
   "mimetype": "text/x-python",
   "name": "python",
   "nbconvert_exporter": "python",
   "pygments_lexer": "ipython3",
   "version": "3.12.6"
  }
 },
 "nbformat": 4,
 "nbformat_minor": 5
}
