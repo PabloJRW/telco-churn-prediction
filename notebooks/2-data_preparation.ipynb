{
 "cells": [
  {
   "cell_type": "code",
   "execution_count": 1,
   "id": "ecfe8da6-fddc-48ea-a7b3-9d7a7368c916",
   "metadata": {},
   "outputs": [],
   "source": [
    "import os\n",
    "import pandas as pd\n"
   ]
  },
  {
   "cell_type": "code",
   "execution_count": 2,
   "id": "290637b9-3964-4375-b85d-a8aab75beda2",
   "metadata": {},
   "outputs": [],
   "source": [
    "DATA_PATH = os.path.join(\"..\",\"datasets\",\"raw\",\"Telco-Customer-Churn.csv\")\n",
    "telco = pd.read_csv(DATA_PATH)"
   ]
  },
  {
   "cell_type": "code",
   "execution_count": 3,
   "id": "53b6fd7a-6271-4047-b546-9611c8234f48",
   "metadata": {},
   "outputs": [
    {
     "name": "stdout",
     "output_type": "stream",
     "text": [
      "<class 'pandas.core.frame.DataFrame'>\n",
      "RangeIndex: 7043 entries, 0 to 7042\n",
      "Data columns (total 21 columns):\n",
      " #   Column            Non-Null Count  Dtype  \n",
      "---  ------            --------------  -----  \n",
      " 0   customerID        7043 non-null   object \n",
      " 1   gender            7043 non-null   object \n",
      " 2   SeniorCitizen     7043 non-null   int64  \n",
      " 3   Partner           7043 non-null   object \n",
      " 4   Dependents        7043 non-null   object \n",
      " 5   tenure            7043 non-null   int64  \n",
      " 6   PhoneService      7043 non-null   object \n",
      " 7   MultipleLines     7043 non-null   object \n",
      " 8   InternetService   7043 non-null   object \n",
      " 9   OnlineSecurity    7043 non-null   object \n",
      " 10  OnlineBackup      7043 non-null   object \n",
      " 11  DeviceProtection  7043 non-null   object \n",
      " 12  TechSupport       7043 non-null   object \n",
      " 13  StreamingTV       7043 non-null   object \n",
      " 14  StreamingMovies   7043 non-null   object \n",
      " 15  Contract          7043 non-null   object \n",
      " 16  PaperlessBilling  7043 non-null   object \n",
      " 17  PaymentMethod     7043 non-null   object \n",
      " 18  MonthlyCharges    7043 non-null   float64\n",
      " 19  TotalCharges      7043 non-null   object \n",
      " 20  Churn             7043 non-null   object \n",
      "dtypes: float64(1), int64(2), object(18)\n",
      "memory usage: 1.1+ MB\n"
     ]
    }
   ],
   "source": [
    "telco.info()"
   ]
  },
  {
   "cell_type": "code",
   "execution_count": 4,
   "id": "0748f98b-0ce8-40d9-ae4f-722e6efe7312",
   "metadata": {},
   "outputs": [],
   "source": [
    "# Normalizing column names\n",
    "telco.columns = telco.columns.str.lower().str.replace(' ','_')\n",
    "# list of categorical columns\n",
    "string_columns = list(telco.dtypes[telco.dtypes=='object'].index)\n",
    "# Normalizing categorical values\n",
    "for col in string_columns:\n",
    "    telco[col] = telco[col].str.lower().str.replace(' ','_')\n",
    "    \n",
    "# Target Variable - Converting dtype no numeric - binary\n",
    "telco.churn = (telco.churn=='yes').astype('int')\n",
    "\n",
    "telco.totalcharges = pd.to_numeric(telco['totalcharges'], errors='coerce')\n",
    "\n",
    "# Senior Citizen\n",
    "telco.seniorcitizen = telco.seniorcitizen.map({0:'no', 1:'yes'})"
   ]
  },
  {
   "cell_type": "code",
   "execution_count": 5,
   "id": "ba443c20-0e02-4517-a12c-6c0c67b25507",
   "metadata": {},
   "outputs": [
    {
     "data": {
      "text/plain": [
       "customerid           0\n",
       "gender               0\n",
       "seniorcitizen        0\n",
       "partner              0\n",
       "dependents           0\n",
       "tenure               0\n",
       "phoneservice         0\n",
       "multiplelines        0\n",
       "internetservice      0\n",
       "onlinesecurity       0\n",
       "onlinebackup         0\n",
       "deviceprotection     0\n",
       "techsupport          0\n",
       "streamingtv          0\n",
       "streamingmovies      0\n",
       "contract             0\n",
       "paperlessbilling     0\n",
       "paymentmethod        0\n",
       "monthlycharges       0\n",
       "totalcharges        11\n",
       "churn                0\n",
       "dtype: int64"
      ]
     },
     "execution_count": 5,
     "metadata": {},
     "output_type": "execute_result"
    }
   ],
   "source": [
    "telco.isnull().sum()"
   ]
  },
  {
   "cell_type": "code",
   "execution_count": 6,
   "id": "c381f07b-2ebe-4513-983c-53ad388aafca",
   "metadata": {},
   "outputs": [],
   "source": [
    "for_model_features = ['tenure','monthlycharges','totalcharges','contract','internetservice','paymentmethod','onlinesecurity','techsupport','phoneservice','paperlessbilling','churn']\n",
    "for_model_df = telco[for_model_features].copy()"
   ]
  },
  {
   "cell_type": "code",
   "execution_count": 7,
   "id": "4d07678a-1c52-4432-a0d1-e685099e1957",
   "metadata": {},
   "outputs": [
    {
     "data": {
      "text/html": [
       "<div>\n",
       "<style scoped>\n",
       "    .dataframe tbody tr th:only-of-type {\n",
       "        vertical-align: middle;\n",
       "    }\n",
       "\n",
       "    .dataframe tbody tr th {\n",
       "        vertical-align: top;\n",
       "    }\n",
       "\n",
       "    .dataframe thead th {\n",
       "        text-align: right;\n",
       "    }\n",
       "</style>\n",
       "<table border=\"1\" class=\"dataframe\">\n",
       "  <thead>\n",
       "    <tr style=\"text-align: right;\">\n",
       "      <th></th>\n",
       "      <th>tenure</th>\n",
       "      <th>monthlycharges</th>\n",
       "      <th>totalcharges</th>\n",
       "      <th>contract</th>\n",
       "      <th>internetservice</th>\n",
       "      <th>paymentmethod</th>\n",
       "      <th>onlinesecurity</th>\n",
       "      <th>techsupport</th>\n",
       "      <th>phoneservice</th>\n",
       "      <th>paperlessbilling</th>\n",
       "      <th>churn</th>\n",
       "    </tr>\n",
       "  </thead>\n",
       "  <tbody>\n",
       "  </tbody>\n",
       "</table>\n",
       "</div>"
      ],
      "text/plain": [
       "Empty DataFrame\n",
       "Columns: [tenure, monthlycharges, totalcharges, contract, internetservice, paymentmethod, onlinesecurity, techsupport, phoneservice, paperlessbilling, churn]\n",
       "Index: []"
      ]
     },
     "execution_count": 7,
     "metadata": {},
     "output_type": "execute_result"
    }
   ],
   "source": [
    "for_model_df[for_model_df['totalcharges']=='_']"
   ]
  },
  {
   "cell_type": "code",
   "execution_count": 8,
   "id": "667400af-102d-4ffb-8974-1a1aac10968e",
   "metadata": {},
   "outputs": [],
   "source": [
    "for_model_df.to_csv(os.path.join('..','datasets','prepared_data','telco_data.csv'), index=False)"
   ]
  }
 ],
 "metadata": {
  "kernelspec": {
   "display_name": "Python 3 (ipykernel)",
   "language": "python",
   "name": "python3"
  },
  "language_info": {
   "codemirror_mode": {
    "name": "ipython",
    "version": 3
   },
   "file_extension": ".py",
   "mimetype": "text/x-python",
   "name": "python",
   "nbconvert_exporter": "python",
   "pygments_lexer": "ipython3",
   "version": "3.12.6"
  }
 },
 "nbformat": 4,
 "nbformat_minor": 5
}
