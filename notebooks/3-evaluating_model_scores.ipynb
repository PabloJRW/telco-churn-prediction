{
 "cells": [
  {
   "cell_type": "code",
   "execution_count": 1,
   "id": "7433c332",
   "metadata": {},
   "outputs": [],
   "source": [
    "import os\n",
    "import numpy as np\n",
    "import pandas as pd\n",
    "import seaborn as sns\n",
    "import matplotlib.pyplot as plt\n",
    "%matplotlib inline\n",
    "\n",
    "from collections import Counter\n",
    "from sklearn.pipeline import Pipeline\n",
    "from sklearn.compose import ColumnTransformer\n",
    "from sklearn.impute import SimpleImputer\n",
    "from sklearn.preprocessing import OneHotEncoder, StandardScaler\n",
    "from sklearn.model_selection import train_test_split\n",
    "from imblearn.over_sampling import SMOTE\n",
    "from sklearn.model_selection import cross_val_predict\n",
    "from sklearn.metrics import roc_curve, auc\n",
    "from sklearn.model_selection import GridSearchCV\n",
    "from sklearn.svm import SVC\n",
    "from sklearn.linear_model import LogisticRegression\n",
    "from sklearn.ensemble import RandomForestClassifier\n",
    "from sklearn.neighbors import KNeighborsClassifier\n",
    "from sklearn.naive_bayes import GaussianNB\n",
    "from xgboost import XGBClassifier\n",
    "from sklearn.metrics import accuracy_score\n",
    "from sklearn.metrics import precision_score\n",
    "from sklearn.metrics import recall_score\n",
    "from sklearn.metrics import f1_score\n",
    "from sklearn.metrics import roc_auc_score\n",
    "\n",
    "import warnings\n",
    "warnings.filterwarnings(\"ignore\")"
   ]
  },
  {
   "cell_type": "code",
   "execution_count": 2,
   "id": "6c335774",
   "metadata": {},
   "outputs": [
    {
     "data": {
      "text/plain": [
       "(7043, 11)"
      ]
     },
     "execution_count": 2,
     "metadata": {},
     "output_type": "execute_result"
    }
   ],
   "source": [
    "DATA_PATH = os.path.join(\"..\",\"datasets\",\"prepared_data\",\"telco_data.csv\")\n",
    "telco = pd.read_csv(DATA_PATH)\n",
    "telco.columns"
   ]
  },
  {
   "cell_type": "code",
   "execution_count": 3,
   "id": "a482d3cc",
   "metadata": {},
   "outputs": [],
   "source": [
    "X = telco.drop(columns=['churn'])\n",
    "y = telco.churn\n",
    "\n",
    "# Train, Validation, and Test set\n",
    "X_train, X_test, y_train, y_test = train_test_split(X, y, test_size=0.3, stratify=y, random_state=12)"
   ]
  },
  {
   "cell_type": "code",
   "execution_count": 4,
   "id": "7bd15f8c-e61a-4a74-b6da-780d9dea916c",
   "metadata": {},
   "outputs": [],
   "source": [
    "\n",
    "# Numeric and categorical feature lists\n",
    "numeric_features = ['tenure', 'monthlycharges', 'totalcharges']\n",
    "categorical_features = ['contract', 'internetservice', 'paymentmethod',\n",
    "                        'onlinesecurity', 'techsupport', 'phoneservice', 'paperlessbilling']\n",
    "\n",
    "# Define the preprocessor: Apply the replacement first, then scale\n",
    "preprocessor = ColumnTransformer(\n",
    "    transformers=[\n",
    "        ('num', Pipeline([\n",
    "            ('imputer', SimpleImputer(strategy='constant', fill_value=0)),  # Replace NaNs with 0\n",
    "            ('scaler', StandardScaler())  # Standardize numeric columns\n",
    "        ]), numeric_features),\n",
    "        \n",
    "        ('cat', OneHotEncoder(), categorical_features)  # One-hot encode categorical features\n",
    "    ])\n",
    "\n",
    "# Apply transformations to the training and test data\n",
    "X_train_transformed = preprocessor.fit_transform(X_train)\n",
    "X_test_transformed = preprocessor.transform(X_test)\n",
    "\n",
    "# Ensure y_train is a 1D array\n",
    "y_train = y_train.ravel()"
   ]
  },
  {
   "cell_type": "code",
   "execution_count": 14,
   "id": "4347c2eb-8608-4dd1-b169-9453a77f4a54",
   "metadata": {},
   "outputs": [
    {
     "name": "stdout",
     "output_type": "stream",
     "text": [
      "Before SMOTE:, 0:(3622,), 1:(1308,)\n",
      "After SMOTE:, 0:(3622,), 1:(3622,)\n"
     ]
    }
   ],
   "source": [
    "# Verify the balance before SMOTE\n",
    "print(f\"Before SMOTE: 0:{y_train[y_train==0].shape}, 1:{y_train[y_train==1].shape}\")\n",
    "\n",
    "# Apply SMOTE to balance the dataset\n",
    "smote = SMOTE(random_state=42)\n",
    "X_train_resampled, y_train_resampled = smote.fit_resample(X_train_transformed, y_train)\n",
    "\n",
    "# Verify the balance after SMOTE\n",
    "print(f\"After SMOTE: 0:{y_train_resampled[y_train_resampled==0].shape}, 1:{y_train_resampled[y_train_resampled==1].shape}\")\n",
    "\n",
    "X_train_resampled = pd.DataFrame(X_train_resampled)\n",
    "y_train_resampled = pd.DataFrame(y_train_resampled)\n",
    "X_test_transformed = pd.DataFrame(X_test_transformed)\n",
    "y_test = pd.DataFrame(y_test)\n",
    "\n",
    "X_train_resampled.to_csv(os.path.join('..','datasets','prepared_data','X_train_resampled.csv'), index=False)\n",
    "X_test_transformed.to_csv(os.path.join('..','datasets','prepared_data','X_test_transformed.csv'), index=False)\n",
    "y_train_resampled.to_csv(os.path.join('..','datasets','prepared_data','y_train_resampled.csv'), index=False)\n",
    "y_test.to_csv(os.path.join('..','datasets','prepared_data','y_test.csv'), index=False)"
   ]
  },
  {
   "cell_type": "code",
   "execution_count": 6,
   "id": "275dc4f0-5743-4c4b-af0d-a87ce06d4972",
   "metadata": {},
   "outputs": [],
   "source": [
    "# Models to check\n",
    "models = {\n",
    "    'svc': SVC(), \n",
    "    'logistic': LogisticRegression(),\n",
    "    'random_forest': RandomForestClassifier(),\n",
    "    'knn': KNeighborsClassifier(),\n",
    "    'xgb': XGBClassifier(),\n",
    "    'gnb': GaussianNB()\n",
    "}\n",
    "\n",
    "\n",
    "def evaluate_models(models:dict, X:pd.DataFrame, y:pd.Series, cv:int) -> pd.DataFrame:\n",
    "    n_models = len(models)\n",
    "    scores=[]\n",
    "    for name, model in models.items():\n",
    "        y_train_pred = cross_val_predict(model, X, y, cv=cv)\n",
    "        accuracy = round(accuracy_score(y, y_train_pred), 2)\n",
    "        precision = precision_score(y, y_train_pred).round(2)\n",
    "        recall = recall_score(y, y_train_pred).round(2)\n",
    "        f1 = f1_score(y, y_train_pred).round(2)\n",
    "\n",
    "        scores.append([name, accuracy, precision, recall, f1])\n",
    "          \n",
    "    scores_df = pd.DataFrame(scores, columns=['Model', 'Accuracy', 'Precision', 'Recall', 'F1'])\n",
    "    scores_df.set_index('Model', inplace=True)\n",
    "    \n",
    "    return scores_df.sort_values(by='Recall', ascending=False)"
   ]
  },
  {
   "cell_type": "code",
   "execution_count": 7,
   "id": "78ba15bb-0881-41d4-8f18-8d0d384e19bd",
   "metadata": {},
   "outputs": [
    {
     "data": {
      "text/html": [
       "<div>\n",
       "<style scoped>\n",
       "    .dataframe tbody tr th:only-of-type {\n",
       "        vertical-align: middle;\n",
       "    }\n",
       "\n",
       "    .dataframe tbody tr th {\n",
       "        vertical-align: top;\n",
       "    }\n",
       "\n",
       "    .dataframe thead th {\n",
       "        text-align: right;\n",
       "    }\n",
       "</style>\n",
       "<table border=\"1\" class=\"dataframe\">\n",
       "  <thead>\n",
       "    <tr style=\"text-align: right;\">\n",
       "      <th></th>\n",
       "      <th>Accuracy</th>\n",
       "      <th>Precision</th>\n",
       "      <th>Recall</th>\n",
       "      <th>F1</th>\n",
       "    </tr>\n",
       "    <tr>\n",
       "      <th>Model</th>\n",
       "      <th></th>\n",
       "      <th></th>\n",
       "      <th></th>\n",
       "      <th></th>\n",
       "    </tr>\n",
       "  </thead>\n",
       "  <tbody>\n",
       "    <tr>\n",
       "      <th>knn</th>\n",
       "      <td>0.79</td>\n",
       "      <td>0.76</td>\n",
       "      <td>0.86</td>\n",
       "      <td>0.81</td>\n",
       "    </tr>\n",
       "    <tr>\n",
       "      <th>random_forest</th>\n",
       "      <td>0.83</td>\n",
       "      <td>0.82</td>\n",
       "      <td>0.85</td>\n",
       "      <td>0.83</td>\n",
       "    </tr>\n",
       "    <tr>\n",
       "      <th>xgb</th>\n",
       "      <td>0.82</td>\n",
       "      <td>0.80</td>\n",
       "      <td>0.85</td>\n",
       "      <td>0.83</td>\n",
       "    </tr>\n",
       "    <tr>\n",
       "      <th>gnb</th>\n",
       "      <td>0.76</td>\n",
       "      <td>0.72</td>\n",
       "      <td>0.84</td>\n",
       "      <td>0.77</td>\n",
       "    </tr>\n",
       "    <tr>\n",
       "      <th>logistic</th>\n",
       "      <td>0.77</td>\n",
       "      <td>0.75</td>\n",
       "      <td>0.82</td>\n",
       "      <td>0.78</td>\n",
       "    </tr>\n",
       "    <tr>\n",
       "      <th>svc</th>\n",
       "      <td>0.78</td>\n",
       "      <td>0.76</td>\n",
       "      <td>0.81</td>\n",
       "      <td>0.78</td>\n",
       "    </tr>\n",
       "  </tbody>\n",
       "</table>\n",
       "</div>"
      ],
      "text/plain": [
       "               Accuracy  Precision  Recall    F1\n",
       "Model                                           \n",
       "knn                0.79       0.76    0.86  0.81\n",
       "random_forest      0.83       0.82    0.85  0.83\n",
       "xgb                0.82       0.80    0.85  0.83\n",
       "gnb                0.76       0.72    0.84  0.77\n",
       "logistic           0.77       0.75    0.82  0.78\n",
       "svc                0.78       0.76    0.81  0.78"
      ]
     },
     "execution_count": 7,
     "metadata": {},
     "output_type": "execute_result"
    }
   ],
   "source": [
    "evaluate_models(models, X_train_resampled, y_train_resampled, 10)"
   ]
  }
 ],
 "metadata": {
  "kernelspec": {
   "display_name": "Python 3 (ipykernel)",
   "language": "python",
   "name": "python3"
  },
  "language_info": {
   "codemirror_mode": {
    "name": "ipython",
    "version": 3
   },
   "file_extension": ".py",
   "mimetype": "text/x-python",
   "name": "python",
   "nbconvert_exporter": "python",
   "pygments_lexer": "ipython3",
   "version": "3.12.6"
  }
 },
 "nbformat": 4,
 "nbformat_minor": 5
}
