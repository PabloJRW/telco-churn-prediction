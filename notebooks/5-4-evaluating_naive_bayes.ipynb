{
 "cells": [
  {
   "cell_type": "code",
   "execution_count": 1,
   "id": "98fc957c-564f-4276-a0fb-aad4b273e540",
   "metadata": {},
   "outputs": [],
   "source": [
    "import os\n",
    "import numpy as np\n",
    "import pandas as pd\n",
    "import matplotlib.pyplot as plt\n",
    "\n",
    "from sklearn.model_selection import GridSearchCV\n",
    "from sklearn.naive_bayes import GaussianNB\n",
    "from sklearn.metrics import classification_report\n",
    "from joblib import dump"
   ]
  },
  {
   "cell_type": "code",
   "execution_count": 2,
   "id": "9641de87-17aa-4725-9508-ac61d8d33264",
   "metadata": {},
   "outputs": [],
   "source": [
    "# Datasets Paths\n",
    "X_train_resampled_path = os.path.join('..','datasets','prepared_data','X_train_resampled.csv') # SMOTE applied  \n",
    "X_train_reduced_path = os.path.join('..','datasets','prepared_data','X_train_reduced.csv')     # PCA applied (It was resampled before)\n",
    "X_test_path = os.path.join('..','datasets','prepared_data','X_test_transformed.csv') \n",
    "X_test_reduced_path = os.path.join('..','datasets','prepared_data','X_test_reduced.csv') \n",
    "y_train_path = os.path.join('..','datasets','prepared_data','y_train_resampled.csv') # SMOTE applied\n",
    "y_test_path = os.path.join('..','datasets','prepared_data','y_test.csv')\n",
    "\n",
    "# Load Datasets\n",
    "X_train_resampled = pd.read_csv(X_train_resampled_path) # PCA Reduced Dataset\n",
    "X_train_reduced = pd.read_csv(X_train_reduced_path)     # PCA applied (It was resampled before)\n",
    "X_test_reduced = pd.read_csv(X_test_reduced_path)               # PCA\n",
    "X_test = pd.read_csv(X_test_path)             \n",
    "y_train = pd.read_csv(y_train_path)\n",
    "y_test = pd.read_csv(y_test_path)\n",
    "\n",
    "# Ensure y are 1D arrays\n",
    "y_train = y_train.values.ravel()\n",
    "y_test = y_test.values.ravel()"
   ]
  },
  {
   "cell_type": "code",
   "execution_count": 3,
   "id": "d4d83582-3600-4c34-bcf0-2f1dcd578e5f",
   "metadata": {},
   "outputs": [
    {
     "name": "stdout",
     "output_type": "stream",
     "text": [
      "Fitting 10 folds for each of 5 candidates, totalling 50 fits\n",
      "Best parameters: {'var_smoothing': 1e-09}\n",
      "Best score: 0.8398779355584981\n"
     ]
    }
   ],
   "source": [
    "# Define the base model\n",
    "gnb = GaussianNB()\n",
    "\n",
    "# Define the hyperparameters to search\n",
    "param_grid = {\n",
    "    'var_smoothing': [1e-9, 1e-8, 1e-7, 1e-6, 1e-5]  # Adjust variance smoothing parameter\n",
    "}\n",
    "\n",
    "# Set up GridSearchCV\n",
    "grid_search = GridSearchCV(\n",
    "    estimator=gnb,\n",
    "    param_grid=param_grid,\n",
    "    scoring='recall',  # Use 'roc_auc', 'f1', etc., depending on your target metric\n",
    "    cv=10,               # Number of cross-validation folds\n",
    "    n_jobs=-1,          # Use all available CPU cores\n",
    "    verbose=1           # Display progress details\n",
    ")\n",
    "\n",
    "# Run GridSearchCV\n",
    "grid_search.fit(X_train_resampled, y_train)\n",
    "\n",
    "# Display the best hyperparameters and best score\n",
    "print(\"Best parameters:\", grid_search.best_params_)\n",
    "print(\"Best score:\", grid_search.best_score_)\n",
    "\n",
    "# Get the best model\n",
    "best_model = grid_search.best_estimator_\n"
   ]
  },
  {
   "cell_type": "code",
   "execution_count": 4,
   "id": "b75d141c-d1ac-4af4-8314-2c7872a2c6dd",
   "metadata": {},
   "outputs": [],
   "source": [
    "y_pred = best_model.predict(X_test)"
   ]
  },
  {
   "cell_type": "code",
   "execution_count": 5,
   "id": "74d24fa5-a364-4f84-8d40-2a7a90efe5e5",
   "metadata": {},
   "outputs": [
    {
     "name": "stdout",
     "output_type": "stream",
     "text": [
      "              precision    recall  f1-score   support\n",
      "\n",
      "           0       0.91      0.67      0.77      1552\n",
      "           1       0.47      0.82      0.60       561\n",
      "\n",
      "    accuracy                           0.71      2113\n",
      "   macro avg       0.69      0.75      0.69      2113\n",
      "weighted avg       0.80      0.71      0.73      2113\n",
      "\n"
     ]
    }
   ],
   "source": [
    "print(classification_report(y_test, y_pred))"
   ]
  },
  {
   "cell_type": "code",
   "execution_count": 6,
   "id": "ca828f00-b310-494b-8518-6a06279ca56c",
   "metadata": {},
   "outputs": [
    {
     "data": {
      "text/plain": [
       "['..\\\\trained_models\\\\naive_bayes.joblib']"
      ]
     },
     "execution_count": 6,
     "metadata": {},
     "output_type": "execute_result"
    }
   ],
   "source": [
    "# Save trained model\n",
    "dump(best_model, os.path.join('..','trained_models','naive_bayes.joblib'))"
   ]
  },
  {
   "cell_type": "markdown",
   "id": "ed2eb268-899e-4eb7-9f84-220405403c2d",
   "metadata": {},
   "source": [
    "### Testing with PCA Transformed Dataset"
   ]
  },
  {
   "cell_type": "code",
   "execution_count": 7,
   "id": "f0e2b1bf-bf01-49bd-bbdd-cac4cc080fe7",
   "metadata": {},
   "outputs": [
    {
     "name": "stdout",
     "output_type": "stream",
     "text": [
      "Fitting 10 folds for each of 5 candidates, totalling 50 fits\n",
      "Best parameters: {'var_smoothing': 1e-09}\n",
      "Best score: 0.7766601220644415\n"
     ]
    }
   ],
   "source": [
    " # Define the base model\n",
    "gnb = GaussianNB()\n",
    "\n",
    "# Define the hyperparameters to search\n",
    "param_grid = {\n",
    "    'var_smoothing': [1e-9, 1e-8, 1e-7, 1e-6, 1e-5]  # Adjust variance smoothing parameter\n",
    "}\n",
    "\n",
    "# Set up GridSearchCV\n",
    "grid_search = GridSearchCV(\n",
    "    estimator=gnb,\n",
    "    param_grid=param_grid,\n",
    "    scoring='recall',  # Use 'roc_auc', 'f1', etc., depending on your target metric\n",
    "    cv=10,               # Number of cross-validation folds\n",
    "    n_jobs=-1,          # Use all available CPU cores\n",
    "    verbose=1           # Display progress details\n",
    ")\n",
    "\n",
    "# Run GridSearchCV\n",
    "grid_search.fit(X_train_reduced, y_train)\n",
    "\n",
    "# Display the best hyperparameters and best score\n",
    "print(\"Best parameters:\", grid_search.best_params_)\n",
    "print(\"Best score:\", grid_search.best_score_)\n",
    "\n",
    "# Get the best model\n",
    "best_model_w_pca = grid_search.best_estimator_"
   ]
  },
  {
   "cell_type": "code",
   "execution_count": 8,
   "id": "4b92545e-c3d7-4ca2-a8ce-498e9f679117",
   "metadata": {},
   "outputs": [],
   "source": [
    "y_pred = best_model_w_pca.predict(X_test_reduced)"
   ]
  },
  {
   "cell_type": "code",
   "execution_count": 9,
   "id": "371e5948-af4e-4293-91d5-63cc8a71130b",
   "metadata": {},
   "outputs": [
    {
     "name": "stdout",
     "output_type": "stream",
     "text": [
      "              precision    recall  f1-score   support\n",
      "\n",
      "           0       0.89      0.74      0.81      1552\n",
      "           1       0.51      0.74      0.60       561\n",
      "\n",
      "    accuracy                           0.74      2113\n",
      "   macro avg       0.70      0.74      0.71      2113\n",
      "weighted avg       0.79      0.74      0.75      2113\n",
      "\n"
     ]
    }
   ],
   "source": [
    "print(classification_report(y_test, y_pred))"
   ]
  },
  {
   "cell_type": "code",
   "execution_count": null,
   "id": "053f8bbc-58ba-4473-9ac1-5a591de5d3f2",
   "metadata": {},
   "outputs": [],
   "source": []
  }
 ],
 "metadata": {
  "kernelspec": {
   "display_name": "Python 3 (ipykernel)",
   "language": "python",
   "name": "python3"
  },
  "language_info": {
   "codemirror_mode": {
    "name": "ipython",
    "version": 3
   },
   "file_extension": ".py",
   "mimetype": "text/x-python",
   "name": "python",
   "nbconvert_exporter": "python",
   "pygments_lexer": "ipython3",
   "version": "3.12.6"
  }
 },
 "nbformat": 4,
 "nbformat_minor": 5
}
