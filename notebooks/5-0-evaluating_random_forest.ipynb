{
 "cells": [
  {
   "cell_type": "code",
   "execution_count": 1,
   "id": "cea43805-e77f-4f35-8ab0-232baf1f8915",
   "metadata": {},
   "outputs": [],
   "source": [
    "import os\n",
    "import numpy as np\n",
    "import pandas as pd\n",
    "import matplotlib.pyplot as plt\n",
    "\n",
    "from sklearn.model_selection import GridSearchCV\n",
    "from sklearn.ensemble import RandomForestClassifier\n",
    "from sklearn.metrics import classification_report\n",
    "from joblib import dump"
   ]
  },
  {
   "cell_type": "code",
   "execution_count": 2,
   "id": "8e737241-919c-46f1-be29-f67d0c3af9ee",
   "metadata": {},
   "outputs": [],
   "source": [
    "# Datasets Paths\n",
    "X_train_resampled_path = os.path.join('..','datasets','prepared_data','X_train_resampled.csv') # SMOTE applied  \n",
    "X_train_reduced_path = os.path.join('..','datasets','prepared_data','X_train_reduced.csv')     # PCA applied (It was resampled before)\n",
    "X_test_path = os.path.join('..','datasets','prepared_data','X_test_transformed.csv') \n",
    "X_test_reduced_path = os.path.join('..','datasets','prepared_data','X_test_reduced.csv') \n",
    "y_train_path = os.path.join('..','datasets','prepared_data','y_train_resampled.csv') # SMOTE applied\n",
    "y_test_path = os.path.join('..','datasets','prepared_data','y_test.csv')\n",
    "\n",
    "# Load Datasets\n",
    "X_train_resampled = pd.read_csv(X_train_resampled_path) # PCA Reduced Dataset\n",
    "X_train_reduced = pd.read_csv(X_train_reduced_path)     # PCA applied (It was resampled before)\n",
    "X_test_reduced = pd.read_csv(X_test_reduced_path)               # PCA\n",
    "X_test = pd.read_csv(X_test_path)             \n",
    "y_train = pd.read_csv(y_train_path)\n",
    "y_test = pd.read_csv(y_test_path)\n",
    "\n",
    "# Ensure y are 1D arrays\n",
    "y_train = y_train.values.ravel()\n",
    "y_test = y_test.values.ravel()"
   ]
  },
  {
   "cell_type": "code",
   "execution_count": 3,
   "id": "c3917e98-5280-438e-a07a-98da7c1a9f43",
   "metadata": {},
   "outputs": [
    {
     "name": "stdout",
     "output_type": "stream",
     "text": [
      "Fitting 5 folds for each of 96 candidates, totalling 480 fits\n",
      "Best parameters: {'criterion': 'gini', 'max_depth': 12, 'min_samples_split': 4, 'n_estimators': 75}\n",
      "Best score: 0.8790447704324633\n"
     ]
    }
   ],
   "source": [
    "# Define the base model\n",
    "rfc = RandomForestClassifier(random_state=42)\n",
    "\n",
    "# Define the hyperparameters to search\n",
    "param_grid = {\n",
    "    'max_depth': [5, 7, 9, 12],            # The maximum depth of the tree.\n",
    "    'criterion': ['gini', 'entropy'],      # The function to measure the quality of a split.\n",
    "    'n_estimators': [75, 100, 150],        # The number of trees in the forest.\n",
    "    'min_samples_split': [4, 5, 6, 8],     # The minimum number of samples required to split an internal node.\n",
    "}\n",
    "\n",
    "# Set up GridSearchCV\n",
    "grid_search = GridSearchCV(\n",
    "    estimator=rfc,\n",
    "    param_grid=param_grid,\n",
    "    scoring='recall',  # Change to 'roc_auc' or 'f1' if needed\n",
    "    cv=5,                # Number of cross-validation folds\n",
    "    n_jobs=-1,           # Use all available CPU cores\n",
    "    verbose=1            # Display progress details\n",
    ")\n",
    "\n",
    "# Run GridSearchCV\n",
    "grid_search.fit(X_train_resampled, y_train)\n",
    "\n",
    "# Display the best hyperparameters and best score\n",
    "print(\"Best parameters:\", grid_search.best_params_)\n",
    "print(\"Best score:\", grid_search.best_score_)\n",
    "\n",
    "# Get the best model\n",
    "best_model = grid_search.best_estimator_"
   ]
  },
  {
   "cell_type": "code",
   "execution_count": 4,
   "id": "67fb3cf2-f755-499f-8a3f-3b7c89350cfa",
   "metadata": {},
   "outputs": [],
   "source": [
    "# Predict\n",
    "y_pred = best_model.predict(X_test)"
   ]
  },
  {
   "cell_type": "code",
   "execution_count": 5,
   "id": "30f81da8-cac0-40fa-892e-18de6e9bd23c",
   "metadata": {},
   "outputs": [
    {
     "name": "stdout",
     "output_type": "stream",
     "text": [
      "              precision    recall  f1-score   support\n",
      "\n",
      "           0       0.89      0.78      0.83      1552\n",
      "           1       0.55      0.75      0.63       561\n",
      "\n",
      "    accuracy                           0.77      2113\n",
      "   macro avg       0.72      0.76      0.73      2113\n",
      "weighted avg       0.80      0.77      0.78      2113\n",
      "\n"
     ]
    }
   ],
   "source": [
    "print(classification_report(y_test, y_pred))"
   ]
  },
  {
   "cell_type": "code",
   "execution_count": 6,
   "id": "a76c20cc-59ed-4854-ab4a-a8cf6d8879fe",
   "metadata": {},
   "outputs": [
    {
     "data": {
      "text/plain": [
       "['..\\\\trained_models\\\\random_forest.joblib']"
      ]
     },
     "execution_count": 6,
     "metadata": {},
     "output_type": "execute_result"
    }
   ],
   "source": [
    "# Save trained model\n",
    "dump(best_model, os.path.join('..','trained_models','random_forest.joblib'))"
   ]
  },
  {
   "cell_type": "markdown",
   "id": "c037b0a8-520a-45a1-a19b-c293db9c1a74",
   "metadata": {},
   "source": [
    "## With Reduced Dimensionality"
   ]
  },
  {
   "cell_type": "code",
   "execution_count": 7,
   "id": "4848d32e-7e86-4cc1-a987-c228ff4998f8",
   "metadata": {},
   "outputs": [
    {
     "name": "stdout",
     "output_type": "stream",
     "text": [
      "Fitting 5 folds for each of 96 candidates, totalling 480 fits\n",
      "Best parameters: {'criterion': 'entropy', 'max_depth': 12, 'min_samples_split': 4, 'n_estimators': 75}\n",
      "Best score: 0.8577961516479329\n"
     ]
    }
   ],
   "source": [
    "# Define the base model\n",
    "rfc = RandomForestClassifier(random_state=42)\n",
    "\n",
    "# Define the hyperparameters to search\n",
    "param_grid = {\n",
    "    'max_depth': [5, 7, 9, 12],            # The maximum depth of the tree.\n",
    "    'criterion': ['gini', 'entropy'],      # The function to measure the quality of a split.\n",
    "    'n_estimators': [75, 100, 150],        # The number of trees in the forest.\n",
    "    'min_samples_split': [4, 5, 6, 8],     # The minimum number of samples required to split an internal node.\n",
    "}\n",
    "\n",
    "# Set up GridSearchCV\n",
    "grid_search = GridSearchCV(\n",
    "    estimator=rfc,\n",
    "    param_grid=param_grid,\n",
    "    scoring='recall',  # Change to 'roc_auc' or 'f1' if needed\n",
    "    cv=5,                # Number of cross-validation folds\n",
    "    n_jobs=-1,           # Use all available CPU cores\n",
    "    verbose=1            # Display progress details\n",
    ")\n",
    "\n",
    "# Run GridSearchCV\n",
    "grid_search.fit(X_train_reduced, y_train)\n",
    "\n",
    "# Display the best hyperparameters and best score\n",
    "print(\"Best parameters:\", grid_search.best_params_)\n",
    "print(\"Best score:\", grid_search.best_score_)\n",
    "\n",
    "# Get the best model\n",
    "best_model__reduced = grid_search.best_estimator_"
   ]
  },
  {
   "cell_type": "code",
   "execution_count": 8,
   "id": "a4317bc3-6b24-4bfa-ac89-aaa3adb66333",
   "metadata": {},
   "outputs": [],
   "source": [
    "# Predict\n",
    "y_pred = best_model__reduced.predict(X_test_reduced)"
   ]
  },
  {
   "cell_type": "code",
   "execution_count": 9,
   "id": "3b04a847-4966-4665-a4ad-884139173b99",
   "metadata": {},
   "outputs": [
    {
     "name": "stdout",
     "output_type": "stream",
     "text": [
      "              precision    recall  f1-score   support\n",
      "\n",
      "           0       0.88      0.77      0.82      1552\n",
      "           1       0.52      0.71      0.60       561\n",
      "\n",
      "    accuracy                           0.75      2113\n",
      "   macro avg       0.70      0.74      0.71      2113\n",
      "weighted avg       0.79      0.75      0.76      2113\n",
      "\n"
     ]
    }
   ],
   "source": [
    "print(classification_report(y_test, y_pred))"
   ]
  },
  {
   "cell_type": "code",
   "execution_count": null,
   "id": "775e2e08-2e8d-430d-a2b6-1cdb5d2a53a1",
   "metadata": {},
   "outputs": [],
   "source": []
  }
 ],
 "metadata": {
  "kernelspec": {
   "display_name": "Python 3 (ipykernel)",
   "language": "python",
   "name": "python3"
  },
  "language_info": {
   "codemirror_mode": {
    "name": "ipython",
    "version": 3
   },
   "file_extension": ".py",
   "mimetype": "text/x-python",
   "name": "python",
   "nbconvert_exporter": "python",
   "pygments_lexer": "ipython3",
   "version": "3.12.6"
  }
 },
 "nbformat": 4,
 "nbformat_minor": 5
}
