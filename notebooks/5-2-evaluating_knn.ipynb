{
 "cells": [
  {
   "cell_type": "code",
   "execution_count": 1,
   "id": "e65e048a-6589-4ad0-8ddd-242add193cad",
   "metadata": {},
   "outputs": [],
   "source": [
    "import os\n",
    "import pandas as pd\n",
    "\n",
    "from sklearn.neighbors import KNeighborsClassifier\n",
    "from sklearn.model_selection import GridSearchCV\n",
    "from sklearn.metrics import classification_report\n",
    "from joblib import dump\n",
    "\n",
    "import warnings\n",
    "warnings.filterwarnings('ignore')"
   ]
  },
  {
   "cell_type": "code",
   "execution_count": 2,
   "id": "d07a0731-263d-4881-bf91-ba24ed18ab88",
   "metadata": {},
   "outputs": [],
   "source": [
    "# Datasets Paths\n",
    "X_train_resampled_path = os.path.join('..','datasets','prepared_data','X_train_resampled.csv') # SMOTE applied  \n",
    "X_train_reduced_path = os.path.join('..','datasets','prepared_data','X_train_reduced.csv')     # PCA applied (It was resampled before)\n",
    "X_test_path = os.path.join('..','datasets','prepared_data','X_test_transformed.csv') \n",
    "X_test_reduced_path = os.path.join('..','datasets','prepared_data','X_test_reduced.csv') \n",
    "y_train_path = os.path.join('..','datasets','prepared_data','y_train_resampled.csv') # SMOTE applied\n",
    "y_test_path = os.path.join('..','datasets','prepared_data','y_test.csv')\n",
    "\n",
    "# Load Datasets\n",
    "X_train_resampled = pd.read_csv(X_train_resampled_path) # PCA Reduced Dataset\n",
    "X_train_reduced = pd.read_csv(X_train_reduced_path)     # PCA applied (It was resampled before)\n",
    "X_test_reduced = pd.read_csv(X_test_reduced_path)               # PCA\n",
    "X_test = pd.read_csv(X_test_path)             \n",
    "y_train = pd.read_csv(y_train_path)\n",
    "y_test = pd.read_csv(y_test_path)\n",
    "\n",
    "# Ensure y are 1D arrays\n",
    "y_train = y_train.values.ravel()\n",
    "y_test = y_test.values.ravel()"
   ]
  },
  {
   "cell_type": "code",
   "execution_count": 3,
   "id": "014baa87-75b4-4d66-8e9e-595424735c76",
   "metadata": {},
   "outputs": [
    {
     "name": "stdout",
     "output_type": "stream",
     "text": [
      "Fitting 5 folds for each of 48 candidates, totalling 240 fits\n",
      "Best parameters: {'metric': 'euclidean', 'n_neighbors': 9, 'p': 1, 'weights': 'distance'}\n",
      "Best score: 0.8782251857496666\n"
     ]
    }
   ],
   "source": [
    "# Define the base model\n",
    "knn = KNeighborsClassifier()\n",
    "\n",
    "# Define the hyperparameters to search\n",
    "param_grid = {\n",
    "    'n_neighbors': [3, 5, 7, 9],                        # Number of neighbors to consider\n",
    "    'weights': ['uniform', 'distance'],                 # Weighting of neighbors (equal or distance-based)\n",
    "    'metric': ['euclidean', 'manhattan', 'minkowski'],  # Distance metrics to use\n",
    "    'p': [1, 2]                                         # Parameter for Minkowski metric (1 = Manhattan, 2 = Euclidean)\n",
    "}\n",
    "\n",
    "# Set up GridSearchCV\n",
    "grid_search = GridSearchCV(\n",
    "    estimator=knn,\n",
    "    param_grid=param_grid,\n",
    "    scoring='recall',  # Change to 'f1' or 'accuracy' if better suited for the problem\n",
    "    cv=5,               # Number of cross-validation folds\n",
    "    n_jobs=-1,          # Use all available CPU cores\n",
    "    verbose=1           # Display progress details\n",
    ")\n",
    "\n",
    "# Run GridSearchCV\n",
    "grid_search.fit(X_train_resampled, y_train)\n",
    "\n",
    "# Display the best hyperparameters and best score\n",
    "print(\"Best parameters:\", grid_search.best_params_)\n",
    "print(\"Best score:\", grid_search.best_score_)\n",
    "\n",
    "# Get the best model\n",
    "best_model = grid_search.best_estimator_"
   ]
  },
  {
   "cell_type": "code",
   "execution_count": 4,
   "id": "e2b12edd-0600-489b-85f1-96ffac4e0e7f",
   "metadata": {},
   "outputs": [],
   "source": [
    "# Predict\n",
    "y_pred = best_model.predict(X_test)"
   ]
  },
  {
   "cell_type": "code",
   "execution_count": 5,
   "id": "424a4cb3-4d3d-4a7e-bf3e-cab043f270e8",
   "metadata": {},
   "outputs": [
    {
     "name": "stdout",
     "output_type": "stream",
     "text": [
      "              precision    recall  f1-score   support\n",
      "\n",
      "           0       0.87      0.73      0.79      1552\n",
      "           1       0.48      0.69      0.57       561\n",
      "\n",
      "    accuracy                           0.72      2113\n",
      "   macro avg       0.68      0.71      0.68      2113\n",
      "weighted avg       0.77      0.72      0.74      2113\n",
      "\n"
     ]
    }
   ],
   "source": [
    "print(classification_report(y_test, y_pred))"
   ]
  },
  {
   "cell_type": "code",
   "execution_count": 6,
   "id": "e92fdf4f-7dc5-4ccb-9f2c-df604e035714",
   "metadata": {},
   "outputs": [
    {
     "data": {
      "text/plain": [
       "['..\\\\trained_models\\\\knn.joblib']"
      ]
     },
     "execution_count": 6,
     "metadata": {},
     "output_type": "execute_result"
    }
   ],
   "source": [
    "# Save trained model\n",
    "dump(best_model, os.path.join('..','trained_models','knn.joblib'))"
   ]
  },
  {
   "cell_type": "markdown",
   "id": "2ce78d77-edc9-42e5-9f85-bb9bf01fafe9",
   "metadata": {},
   "source": [
    "### With reduced Dimesionality"
   ]
  },
  {
   "cell_type": "code",
   "execution_count": 7,
   "id": "ba161f0c-bce6-4e76-96fe-e038560916ee",
   "metadata": {},
   "outputs": [
    {
     "name": "stdout",
     "output_type": "stream",
     "text": [
      "Fitting 5 folds for each of 48 candidates, totalling 240 fits\n",
      "Best parameters: {'metric': 'euclidean', 'n_neighbors': 9, 'p': 1, 'weights': 'distance'}\n",
      "Best score: 0.8669022670984949\n"
     ]
    }
   ],
   "source": [
    "# Define the base model\n",
    "knn = KNeighborsClassifier()\n",
    "\n",
    "# Define the hyperparameters to search\n",
    "param_grid = {\n",
    "    'n_neighbors': [3, 5, 7, 9],                        # Number of neighbors to consider\n",
    "    'weights': ['uniform', 'distance'],                 # Weighting of neighbors (equal or distance-based)\n",
    "    'metric': ['euclidean', 'manhattan', 'minkowski'],  # Distance metrics to use\n",
    "    'p': [1, 2]                                         # Parameter for Minkowski metric (1 = Manhattan, 2 = Euclidean)\n",
    "}\n",
    "\n",
    "# Set up GridSearchCV\n",
    "grid_search = GridSearchCV(\n",
    "    estimator=knn,\n",
    "    param_grid=param_grid,\n",
    "    scoring='recall',  # Change to 'f1' or 'accuracy' if better suited for the problem\n",
    "    cv=5,               # Number of cross-validation folds\n",
    "    n_jobs=-1,          # Use all available CPU cores\n",
    "    verbose=1           # Display progress details\n",
    ")\n",
    "\n",
    "# Run GridSearchCV\n",
    "grid_search.fit(X_train_reduced, y_train)\n",
    "\n",
    "# Display the best hyperparameters and best score\n",
    "print(\"Best parameters:\", grid_search.best_params_)\n",
    "print(\"Best score:\", grid_search.best_score_)\n",
    "\n",
    "# Get the best model\n",
    "best_model_w_reduced = grid_search.best_estimator_"
   ]
  },
  {
   "cell_type": "code",
   "execution_count": 8,
   "id": "f121c186-25b8-4de7-a971-cbc6e284277c",
   "metadata": {},
   "outputs": [],
   "source": [
    "# Predict# Predict\n",
    "y_pred = best_model_w_reduced.predict(X_test_reduced)"
   ]
  },
  {
   "cell_type": "code",
   "execution_count": 9,
   "id": "79b3a97b-38dd-4aa4-9086-697ea9b17026",
   "metadata": {},
   "outputs": [
    {
     "name": "stdout",
     "output_type": "stream",
     "text": [
      "              precision    recall  f1-score   support\n",
      "\n",
      "           0       0.86      0.74      0.80      1552\n",
      "           1       0.49      0.68      0.57       561\n",
      "\n",
      "    accuracy                           0.72      2113\n",
      "   macro avg       0.68      0.71      0.68      2113\n",
      "weighted avg       0.76      0.72      0.74      2113\n",
      "\n"
     ]
    }
   ],
   "source": [
    "print(classification_report(y_test, y_pred))"
   ]
  },
  {
   "cell_type": "code",
   "execution_count": null,
   "id": "18c82d7d-12fa-463c-8f13-fdcc011f4370",
   "metadata": {},
   "outputs": [],
   "source": []
  }
 ],
 "metadata": {
  "kernelspec": {
   "display_name": "Python 3 (ipykernel)",
   "language": "python",
   "name": "python3"
  },
  "language_info": {
   "codemirror_mode": {
    "name": "ipython",
    "version": 3
   },
   "file_extension": ".py",
   "mimetype": "text/x-python",
   "name": "python",
   "nbconvert_exporter": "python",
   "pygments_lexer": "ipython3",
   "version": "3.12.6"
  }
 },
 "nbformat": 4,
 "nbformat_minor": 5
}
